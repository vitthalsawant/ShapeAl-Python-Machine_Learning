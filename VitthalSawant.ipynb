{
  "nbformat": 4,
  "nbformat_minor": 0,
  "metadata": {
    "colab": {
      "provenance": [],
      "collapsed_sections": []
    },
    "kernelspec": {
      "name": "python3",
      "display_name": "Python 3"
    },
    "language_info": {
      "name": "python"
    }
  },
  "cells": [
    {
      "cell_type": "code",
      "execution_count": 10,
      "metadata": {
        "id": "pn7iDBqx3hCf",
        "colab": {
          "base_uri": "https://localhost:8080/",
          "height": 130
        },
        "outputId": "674c9f7a-2b94-4f23-c9df-d71cb4fbf548"
      },
      "outputs": [
        {
          "output_type": "error",
          "ename": "SyntaxError",
          "evalue": "ignored",
          "traceback": [
            "\u001b[0;36m  File \u001b[0;32m\"<ipython-input-10-a822ad59068a>\"\u001b[0;36m, line \u001b[0;32m33\u001b[0m\n\u001b[0;31m    y_test predict=lin_model.predict(x_test)\u001b[0m\n\u001b[0m                 ^\u001b[0m\n\u001b[0;31mSyntaxError\u001b[0m\u001b[0;31m:\u001b[0m invalid syntax\n"
          ]
        }
      ],
      "source": [
        "import numpy as np\n",
        "import pandas as pd\n",
        "import sklearn\n",
        "from sklearn.datasets import load_boston\n",
        "df=load_boston()\n",
        "df.keys()#Returns all the keys of the dataset dictionary\n",
        "print(df.data) # Info about the dataset\n",
        "boston=pd.DataFrame(df.data,columns=df.feature_names)\n",
        "boston.head()\n",
        "boston['MEDV']=df.target\n",
        "boston.head()\n",
        "boston.isnull()\n",
        "boston.isnull().sum()\n",
        "from sklearn.model_selection import train_test_split\n",
        "X=boston.drop('MEDV',axis=1)\n",
        "Y=boston['MEDV']\n",
        "X_train,X_test,Y_train,Y_test=train_test_split(X,Y,test_size=0.15,random_state=5)\n",
        "print(X_train.shape)\n",
        "print(X_test.shape)\n",
        "print(Y_train.shape)\n",
        "print(Y_test.shape)\n",
        "from sklearn.linear_model import LinearRegression\n",
        "from sklearn.metrics import mean_squared_error\n",
        "## FITTING MODEL ON THE TRAINING DATASET\n",
        "lin_model=LinearRegression()\n",
        "lin_model.fit(X_train,Y_train)\n",
        "y_train_predict=lin_model.predict(X_train)\n",
        "rmse=(np.sqrt(mean_squared_error(Y_train,y_train_predict)))\n",
        "print(\"The model performance for training set\")\n",
        "print('RMSE is{}'.format(rmse))\n",
        "print(\"\\n\")\n",
        "# on testing set\n",
        "y_test_predict=lin_model.predict(X_test)\n",
        "rmse=(np.sqrt(mean_squared_error(Y_test, y_test_predict)))\n",
        "print(\"The model performance for testing set\")\n",
        "print('RMSE is {}' .format(rmse))\n"
      ]
    }
  ]
}
